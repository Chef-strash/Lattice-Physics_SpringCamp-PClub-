{
  "nbformat": 4,
  "nbformat_minor": 0,
  "metadata": {
    "colab": {
      "provenance": []
    },
    "kernelspec": {
      "name": "python3",
      "display_name": "Python 3"
    },
    "language_info": {
      "name": "python"
    }
  },
  "cells": [
    {
      "cell_type": "code",
      "source": [
        "#Libraries for Numeric analysis\n",
        "import numpy as np\n",
        "import pandas as pd\n",
        "from sklearn.model_selection import train_test_split as tts\n",
        "\n",
        "#Libraries for Visual representation of data\n",
        "import matplotlib.pyplot as plt\n",
        "%matplotlib inline\n",
        "import seaborn as sns\n",
        "\n",
        "#Library to remove uncecessary waarnings messages.\n",
        "import warnings\n",
        "warnings.filterwarnings('ignore')\n",
        "from sklearn.model_selection import GridSearchCV\n",
        "from sklearn.pipeline import Pipeline\n",
        "from sklearn.preprocessing import PolynomialFeatures, StandardScaler\n",
        "from sklearn.feature_selection import SelectKBest, f_regression\n",
        "from sklearn.metrics import make_scorer, mean_squared_error, r2_score, mean_absolute_error\n",
        "from sklearn.linear_model import LinearRegression\n",
        "#Load and preprocess data\n",
        "data=pd.read_csv('processed.csv')\n",
        "data_cleaned=data.drop(columns=[\"C40\"])  # Drop the null column\n",
        "X=data_cleaned.drop(columns=[\"PPPF\"])\n",
        "y=data_cleaned[\"PPPF\"]\n",
        "#Define pipeline components\n",
        "pipeline=Pipeline([\n",
        "    ('feature_selection', SelectKBest(score_func=f_regression)),\n",
        "    ('poly_features', PolynomialFeatures(include_bias=False)),\n",
        "    ('scaler', StandardScaler()),\n",
        "    ('regressor', LinearRegression())\n",
        "])\n",
        "\n",
        "#Setting up parameter grid for GridSearchCV\n",
        "param_grid={\n",
        "    'feature_selection__k': [ 25, 30, 35],  # Number of top features to select\n",
        "    'poly_features__degree': [2,3]             # Polynomial degrees to test\n",
        "}\n",
        "\n",
        "#Defining scoring metric (MSE)\n",
        "scorer=make_scorer(mean_squared_error, greater_is_better=False)\n",
        "\n",
        "#Performing GridSearchCV\n",
        "grid_search=GridSearchCV(pipeline, param_grid, scoring=scorer, cv=3, verbose=1)\n",
        "grid_search.fit(X, y)\n",
        "\n",
        "#Display results of GridSearchCV\n",
        "best_params=grid_search.best_params_\n",
        "best_model=grid_search.best_estimator_\n",
        "best_score=grid_search.best_score_\n",
        "\n",
        "print(\"Best Parameters:\", best_params)\n",
        "print(\"Best Cross-Validated MSE:\", -best_score)\n"
      ],
      "metadata": {
        "colab": {
          "base_uri": "https://localhost:8080/"
        },
        "id": "LBGz5Q4meXoK",
        "outputId": "cd098304-4d12-462e-d0e0-438e17349d37"
      },
      "execution_count": 3,
      "outputs": [
        {
          "output_type": "stream",
          "name": "stdout",
          "text": [
            "Fitting 3 folds for each of 6 candidates, totalling 18 fits\n",
            "Best Parameters: {'feature_selection__k': 30, 'poly_features__degree': 3}\n",
            "Best Cross-Validated MSE: 0.004113415557785522\n"
          ]
        }
      ]
    }
  ]
}